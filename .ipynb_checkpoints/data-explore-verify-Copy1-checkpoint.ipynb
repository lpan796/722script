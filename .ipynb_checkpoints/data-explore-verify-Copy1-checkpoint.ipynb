{
 "cells": [
  {
   "cell_type": "code",
   "execution_count": 1,
   "metadata": {},
   "outputs": [],
   "source": [
    "import findspark\n",
    "findspark.init('/home/ubuntu/spark-2.1.1-bin-hadoop2.7')\n",
    "import pyspark\n",
    "import pandas as pd\n",
    "import pyspark.sql.functions as fn\n",
    "from pyspark.sql.functions import isnull, isnan\n",
    "from pyspark.sql import SparkSession\n",
    "\n",
    "spark = SparkSession.builder.appName('Explore').getOrCreate()"
   ]
  },
  {
   "cell_type": "code",
   "execution_count": 2,
   "metadata": {},
   "outputs": [
    {
     "name": "stdout",
     "output_type": "stream",
     "text": [
      "Session 10436163 Age_dataset, 420 Country, 10\n",
      "We have 213451 users in the training set and 62096 in the test set.\n",
      "In total we have 275547 users.\n"
     ]
    }
   ],
   "source": [
    "age= spark.read.csv('age_gender_bkts.csv',header=True,inferSchema=True)\n",
    "country= spark.read.csv('countries.csv',header=True,inferSchema=True)\n",
    "session= spark.read.csv('sessions.csv',header=True,inferSchema=True)\n",
    "train_users = spark.read.csv('train_users_2.csv',header=True,inferSchema=True)\n",
    "test_users = spark.read.csv('test_users.csv',header=True,inferSchema=True)\n",
    "print(\"Session\", session.count(), \"Age_dataset,\",age.count(),\"Country,\",country.count(), )\n",
    "print(\"We have\", train_users.count(), \"users in the training set and\", \n",
    "      test_users.count(), \"in the test set.\")\n",
    "print(\"In total we have\", train_users.count() + test_users.count(), \"users.\")"
   ]
  },
  {
   "cell_type": "code",
   "execution_count": null,
   "metadata": {},
   "outputs": [],
   "source": [
    "age.printSchema()\n",
    "age.show()\n",
    "age.describe().show()\n",
    "age.select('country_destination').distinct().show()\n",
    "age.select('age_bucket').distinct().show(21)\n",
    "age.select('country_destination','population_in_thousands').describe().show()\n",
    "age.groupBy('gender').sum().show()\n",
    "age.groupBy('country_destination').sum().orderBy('sum(population_in_thousands)').show()\n",
    "age.groupBy('age_bucket').sum().orderBy('sum(population_in_thousands)').show(21)"
   ]
  },
  {
   "cell_type": "code",
   "execution_count": 45,
   "metadata": {
    "scrolled": true
   },
   "outputs": [
    {
     "name": "stdout",
     "output_type": "stream",
     "text": [
      "root\n",
      " |-- country_destination: string (nullable = true)\n",
      " |-- lat_destination: double (nullable = true)\n",
      " |-- lng_destination: double (nullable = true)\n",
      " |-- distance_km: double (nullable = true)\n",
      " |-- destination_km2: double (nullable = true)\n",
      " |-- destination_language : string (nullable = true)\n",
      " |-- language_levenshtein_distance: double (nullable = true)\n",
      "\n",
      "+-------+-------------------+------------------+-------------------+------------------+-----------------+---------------------+-----------------------------+\n",
      "|summary|country_destination|   lat_destination|    lng_destination|       distance_km|  destination_km2|destination_language |language_levenshtein_distance|\n",
      "+-------+-------------------+------------------+-------------------+------------------+-----------------+---------------------+-----------------------------+\n",
      "|  count|                 10|                10|                 10|                10|               10|                   10|                           10|\n",
      "|   mean|               null|39.799398000000004|-4.2624458899999995| 7181.897800000001|        2973734.1|                 null|            50.49900000000001|\n",
      "| stddev|               null|24.739112449608466|   63.7005845497413|3941.1417335184483|4329619.177088737|                 null|           44.541689697530686|\n",
      "|    min|                 AU|        -26.853388|         -96.818146|               0.0|          41543.0|                  deu|                          0.0|\n",
      "|    max|                 US|         62.393303|          133.27516|         15297.744|        9984670.0|                  spa|                        95.45|\n",
      "+-------+-------------------+------------------+-------------------+------------------+-----------------+---------------------+-----------------------------+\n",
      "\n",
      "+-------------------+---------------------+\n",
      "|country_destination|destination_language |\n",
      "+-------------------+---------------------+\n",
      "|                 AU|                  eng|\n",
      "|                 CA|                  eng|\n",
      "|                 DE|                  deu|\n",
      "|                 ES|                  spa|\n",
      "|                 FR|                  fra|\n",
      "|                 GB|                  eng|\n",
      "|                 IT|                  ita|\n",
      "|                 NL|                  nld|\n",
      "|                 PT|                  por|\n",
      "|                 US|                  eng|\n",
      "+-------------------+---------------------+\n",
      "\n",
      "+-------------------+-----------------------------+---------------------+\n",
      "|country_destination|language_levenshtein_distance|destination_language |\n",
      "+-------------------+-----------------------------+---------------------+\n",
      "|                 GB|                          0.0|                  eng|\n",
      "|                 US|                          0.0|                  eng|\n",
      "|                 AU|                          0.0|                  eng|\n",
      "|                 CA|                          0.0|                  eng|\n",
      "|                 NL|                        63.22|                  nld|\n",
      "|                 DE|                        72.61|                  deu|\n",
      "|                 IT|                         89.4|                  ita|\n",
      "|                 FR|                        92.06|                  fra|\n",
      "|                 ES|                        92.25|                  spa|\n",
      "|                 PT|                        95.45|                  por|\n",
      "+-------------------+-----------------------------+---------------------+\n",
      "\n",
      "+-------------------+-----------+---------------+\n",
      "|country_destination|distance_km|destination_km2|\n",
      "+-------------------+-----------+---------------+\n",
      "|                 US|        0.0|      9826675.0|\n",
      "|                 CA|  2828.1333|      9984670.0|\n",
      "|                 GB|   6883.659|       243610.0|\n",
      "|                 PT|  7355.2534|        92090.0|\n",
      "|                 NL|  7524.3203|        41543.0|\n",
      "|                 FR|   7682.945|       643801.0|\n",
      "|                 ES|   7730.724|       505370.0|\n",
      "|                 DE|   7879.568|       357022.0|\n",
      "|                 IT|   8636.631|       301340.0|\n",
      "|                 AU|  15297.744|      7741220.0|\n",
      "+-------------------+-----------+---------------+\n",
      "\n"
     ]
    }
   ],
   "source": [
    "country.printSchema()\n",
    "country.describe().show()\n",
    "country.select('country_destination','destination_language ').show()\n",
    "country.select('country_destination','language_levenshtein_distance','destination_language ').orderBy('language_levenshtein_distance').show()\n",
    "country.select('country_destination','distance_km','destination_km2').orderBy('distance_km').show()"
   ]
  },
  {
   "cell_type": "code",
   "execution_count": 48,
   "metadata": {},
   "outputs": [
    {
     "name": "stdout",
     "output_type": "stream",
     "text": [
      "root\n",
      " |-- user_id: string (nullable = true)\n",
      " |-- action: string (nullable = true)\n",
      " |-- action_type: string (nullable = true)\n",
      " |-- action_detail: string (nullable = true)\n",
      " |-- device_type: string (nullable = true)\n",
      " |-- secs_elapsed: double (nullable = true)\n",
      "\n",
      "+--------------------+\n",
      "|              action|\n",
      "+--------------------+\n",
      "|              travel|\n",
      "|            uptodate|\n",
      "|guest_billing_rec...|\n",
      "| phone_number_widget|\n",
      "| calendar_tab_inner2|\n",
      "|       special_offer|\n",
      "|         profile_pic|\n",
      "|           countries|\n",
      "|change_default_pa...|\n",
      "|            tos_2014|\n",
      "|   ajax_photo_widget|\n",
      "|ajax_google_trans...|\n",
      "|           show_code|\n",
      "|                  15|\n",
      "|weibo_signup_refe...|\n",
      "|travel_plans_current|\n",
      "|       tell_a_friend|\n",
      "|   edit_verification|\n",
      "|         qt_reply_v2|\n",
      "| request_photography|\n",
      "+--------------------+\n",
      "only showing top 20 rows\n",
      "\n",
      "+----------------+\n",
      "|     action_type|\n",
      "+----------------+\n",
      "| booking_request|\n",
      "|            null|\n",
      "|          modify|\n",
      "|          submit|\n",
      "|            view|\n",
      "|            data|\n",
      "|             cli|\n",
      "|           click|\n",
      "|partner_callback|\n",
      "|booking_response|\n",
      "|       -unknown-|\n",
      "|    message_post|\n",
      "+----------------+\n",
      "\n",
      "+--------------------+\n",
      "|       action_detail|\n",
      "+--------------------+\n",
      "|          login_page|\n",
      "|         oauth_login|\n",
      "|account_transacti...|\n",
      "|   view_reservations|\n",
      "|            tos_2014|\n",
      "|     list_your_space|\n",
      "|   friends_wishlists|\n",
      "|       user_listings|\n",
      "|post_checkout_action|\n",
      "|       at_checkpoint|\n",
      "|        send_message|\n",
      "|     forgot_password|\n",
      "|      user_tax_forms|\n",
      "|      view_locations|\n",
      "|              photos|\n",
      "|request_new_confi...|\n",
      "|   host_refund_guest|\n",
      "|wishlist_content_...|\n",
      "|      user_languages|\n",
      "|  coupon_field_focus|\n",
      "+--------------------+\n",
      "only showing top 20 rows\n",
      "\n",
      "+--------------------+\n",
      "|         device_type|\n",
      "+--------------------+\n",
      "|           iPodtouch|\n",
      "|              iPhone|\n",
      "|                null|\n",
      "|         Opera Phone|\n",
      "|     Windows Desktop|\n",
      "|       Linux Desktop|\n",
      "|       Android Phone|\n",
      "|         Mac Desktop|\n",
      "|Android App Unkno...|\n",
      "|         iPad Tablet|\n",
      "|          Blackberry|\n",
      "|       Windows Phone|\n",
      "|           -unknown-|\n",
      "|              Tablet|\n",
      "|          Chromebook|\n",
      "+--------------------+\n",
      "\n"
     ]
    }
   ],
   "source": [
    "session.printSchema()\n",
    "session.dtypes\n",
    "session.select('action').distinct().show()\n",
    "session.select('action_type').distinct().show()\n",
    "session.select('action_detail').distinct().show()\n",
    "session.select('device_type').distinct().show()"
   ]
  },
  {
   "cell_type": "code",
   "execution_count": 52,
   "metadata": {
    "scrolled": true
   },
   "outputs": [
    {
     "name": "stdout",
     "output_type": "stream",
     "text": [
      "root\n",
      " |-- id: string (nullable = true)\n",
      " |-- date_account_created: timestamp (nullable = true)\n",
      " |-- timestamp_first_active: long (nullable = true)\n",
      " |-- date_first_booking: timestamp (nullable = true)\n",
      " |-- gender: string (nullable = true)\n",
      " |-- age: double (nullable = true)\n",
      " |-- signup_method: string (nullable = true)\n",
      " |-- signup_flow: integer (nullable = true)\n",
      " |-- language: string (nullable = true)\n",
      " |-- affiliate_channel: string (nullable = true)\n",
      " |-- affiliate_provider: string (nullable = true)\n",
      " |-- first_affiliate_tracked: string (nullable = true)\n",
      " |-- signup_app: string (nullable = true)\n",
      " |-- first_device_type: string (nullable = true)\n",
      " |-- first_browser: string (nullable = true)\n",
      " |-- country_destination: string (nullable = true)\n",
      "\n"
     ]
    },
    {
     "ename": "KeyboardInterrupt",
     "evalue": "",
     "output_type": "error",
     "traceback": [
      "\u001b[0;31m---------------------------------------------------------------------------\u001b[0m",
      "\u001b[0;31mKeyboardInterrupt\u001b[0m                         Traceback (most recent call last)",
      "\u001b[0;32m<ipython-input-52-1307cc712597>\u001b[0m in \u001b[0;36m<module>\u001b[0;34m()\u001b[0m\n\u001b[1;32m      1\u001b[0m \u001b[0mtrain_users\u001b[0m\u001b[0;34m.\u001b[0m\u001b[0mprintSchema\u001b[0m\u001b[0;34m(\u001b[0m\u001b[0;34m)\u001b[0m\u001b[0;34m\u001b[0m\u001b[0m\n\u001b[0;32m----> 2\u001b[0;31m \u001b[0mtrain_users\u001b[0m\u001b[0;34m.\u001b[0m\u001b[0mdescribe\u001b[0m\u001b[0;34m(\u001b[0m\u001b[0;34m)\u001b[0m\u001b[0;34m.\u001b[0m\u001b[0mshow\u001b[0m\u001b[0;34m(\u001b[0m\u001b[0;34m)\u001b[0m\u001b[0;34m\u001b[0m\u001b[0m\n\u001b[0m\u001b[1;32m      3\u001b[0m \u001b[0mtest_users\u001b[0m\u001b[0;34m.\u001b[0m\u001b[0mprintSchema\u001b[0m\u001b[0;34m(\u001b[0m\u001b[0;34m)\u001b[0m\u001b[0;34m\u001b[0m\u001b[0m\n\u001b[1;32m      4\u001b[0m \u001b[0mtest_users\u001b[0m\u001b[0;34m.\u001b[0m\u001b[0mdescribe\u001b[0m\u001b[0;34m(\u001b[0m\u001b[0;34m)\u001b[0m\u001b[0;34m.\u001b[0m\u001b[0mshow\u001b[0m\u001b[0;34m(\u001b[0m\u001b[0;34m)\u001b[0m\u001b[0;34m\u001b[0m\u001b[0m\n\u001b[1;32m      5\u001b[0m \u001b[0mtrain_users\u001b[0m\u001b[0;34m.\u001b[0m\u001b[0mgroupBy\u001b[0m\u001b[0;34m(\u001b[0m\u001b[0;34m'country_destination'\u001b[0m\u001b[0;34m)\u001b[0m\u001b[0;34m.\u001b[0m\u001b[0mcount\u001b[0m\u001b[0;34m(\u001b[0m\u001b[0;34m)\u001b[0m\u001b[0;34m.\u001b[0m\u001b[0mshow\u001b[0m\u001b[0;34m(\u001b[0m\u001b[0;34m)\u001b[0m\u001b[0;34m\u001b[0m\u001b[0m\n",
      "\u001b[0;32m~/spark-2.1.1-bin-hadoop2.7/python/pyspark/sql/dataframe.py\u001b[0m in \u001b[0;36mdescribe\u001b[0;34m(self, *cols)\u001b[0m\n\u001b[1;32m    900\u001b[0m         \u001b[0;32mif\u001b[0m \u001b[0mlen\u001b[0m\u001b[0;34m(\u001b[0m\u001b[0mcols\u001b[0m\u001b[0;34m)\u001b[0m \u001b[0;34m==\u001b[0m \u001b[0;36m1\u001b[0m \u001b[0;32mand\u001b[0m \u001b[0misinstance\u001b[0m\u001b[0;34m(\u001b[0m\u001b[0mcols\u001b[0m\u001b[0;34m[\u001b[0m\u001b[0;36m0\u001b[0m\u001b[0;34m]\u001b[0m\u001b[0;34m,\u001b[0m \u001b[0mlist\u001b[0m\u001b[0;34m)\u001b[0m\u001b[0;34m:\u001b[0m\u001b[0;34m\u001b[0m\u001b[0m\n\u001b[1;32m    901\u001b[0m             \u001b[0mcols\u001b[0m \u001b[0;34m=\u001b[0m \u001b[0mcols\u001b[0m\u001b[0;34m[\u001b[0m\u001b[0;36m0\u001b[0m\u001b[0;34m]\u001b[0m\u001b[0;34m\u001b[0m\u001b[0m\n\u001b[0;32m--> 902\u001b[0;31m         \u001b[0mjdf\u001b[0m \u001b[0;34m=\u001b[0m \u001b[0mself\u001b[0m\u001b[0;34m.\u001b[0m\u001b[0m_jdf\u001b[0m\u001b[0;34m.\u001b[0m\u001b[0mdescribe\u001b[0m\u001b[0;34m(\u001b[0m\u001b[0mself\u001b[0m\u001b[0;34m.\u001b[0m\u001b[0m_jseq\u001b[0m\u001b[0;34m(\u001b[0m\u001b[0mcols\u001b[0m\u001b[0;34m)\u001b[0m\u001b[0;34m)\u001b[0m\u001b[0;34m\u001b[0m\u001b[0m\n\u001b[0m\u001b[1;32m    903\u001b[0m         \u001b[0;32mreturn\u001b[0m \u001b[0mDataFrame\u001b[0m\u001b[0;34m(\u001b[0m\u001b[0mjdf\u001b[0m\u001b[0;34m,\u001b[0m \u001b[0mself\u001b[0m\u001b[0;34m.\u001b[0m\u001b[0msql_ctx\u001b[0m\u001b[0;34m)\u001b[0m\u001b[0;34m\u001b[0m\u001b[0m\n\u001b[1;32m    904\u001b[0m \u001b[0;34m\u001b[0m\u001b[0m\n",
      "\u001b[0;32m~/spark-2.1.1-bin-hadoop2.7/python/lib/py4j-0.10.4-src.zip/py4j/java_gateway.py\u001b[0m in \u001b[0;36m__call__\u001b[0;34m(self, *args)\u001b[0m\n\u001b[1;32m   1129\u001b[0m             \u001b[0mproto\u001b[0m\u001b[0;34m.\u001b[0m\u001b[0mEND_COMMAND_PART\u001b[0m\u001b[0;34m\u001b[0m\u001b[0m\n\u001b[1;32m   1130\u001b[0m \u001b[0;34m\u001b[0m\u001b[0m\n\u001b[0;32m-> 1131\u001b[0;31m         \u001b[0manswer\u001b[0m \u001b[0;34m=\u001b[0m \u001b[0mself\u001b[0m\u001b[0;34m.\u001b[0m\u001b[0mgateway_client\u001b[0m\u001b[0;34m.\u001b[0m\u001b[0msend_command\u001b[0m\u001b[0;34m(\u001b[0m\u001b[0mcommand\u001b[0m\u001b[0;34m)\u001b[0m\u001b[0;34m\u001b[0m\u001b[0m\n\u001b[0m\u001b[1;32m   1132\u001b[0m         return_value = get_return_value(\n\u001b[1;32m   1133\u001b[0m             answer, self.gateway_client, self.target_id, self.name)\n",
      "\u001b[0;32m~/spark-2.1.1-bin-hadoop2.7/python/lib/py4j-0.10.4-src.zip/py4j/java_gateway.py\u001b[0m in \u001b[0;36msend_command\u001b[0;34m(self, command, retry, binary)\u001b[0m\n\u001b[1;32m    881\u001b[0m         \u001b[0mconnection\u001b[0m \u001b[0;34m=\u001b[0m \u001b[0mself\u001b[0m\u001b[0;34m.\u001b[0m\u001b[0m_get_connection\u001b[0m\u001b[0;34m(\u001b[0m\u001b[0;34m)\u001b[0m\u001b[0;34m\u001b[0m\u001b[0m\n\u001b[1;32m    882\u001b[0m         \u001b[0;32mtry\u001b[0m\u001b[0;34m:\u001b[0m\u001b[0;34m\u001b[0m\u001b[0m\n\u001b[0;32m--> 883\u001b[0;31m             \u001b[0mresponse\u001b[0m \u001b[0;34m=\u001b[0m \u001b[0mconnection\u001b[0m\u001b[0;34m.\u001b[0m\u001b[0msend_command\u001b[0m\u001b[0;34m(\u001b[0m\u001b[0mcommand\u001b[0m\u001b[0;34m)\u001b[0m\u001b[0;34m\u001b[0m\u001b[0m\n\u001b[0m\u001b[1;32m    884\u001b[0m             \u001b[0;32mif\u001b[0m \u001b[0mbinary\u001b[0m\u001b[0;34m:\u001b[0m\u001b[0;34m\u001b[0m\u001b[0m\n\u001b[1;32m    885\u001b[0m                 \u001b[0;32mreturn\u001b[0m \u001b[0mresponse\u001b[0m\u001b[0;34m,\u001b[0m \u001b[0mself\u001b[0m\u001b[0;34m.\u001b[0m\u001b[0m_create_connection_guard\u001b[0m\u001b[0;34m(\u001b[0m\u001b[0mconnection\u001b[0m\u001b[0;34m)\u001b[0m\u001b[0;34m\u001b[0m\u001b[0m\n",
      "\u001b[0;32m~/spark-2.1.1-bin-hadoop2.7/python/lib/py4j-0.10.4-src.zip/py4j/java_gateway.py\u001b[0m in \u001b[0;36msend_command\u001b[0;34m(self, command)\u001b[0m\n\u001b[1;32m   1026\u001b[0m \u001b[0;34m\u001b[0m\u001b[0m\n\u001b[1;32m   1027\u001b[0m         \u001b[0;32mtry\u001b[0m\u001b[0;34m:\u001b[0m\u001b[0;34m\u001b[0m\u001b[0m\n\u001b[0;32m-> 1028\u001b[0;31m             \u001b[0manswer\u001b[0m \u001b[0;34m=\u001b[0m \u001b[0msmart_decode\u001b[0m\u001b[0;34m(\u001b[0m\u001b[0mself\u001b[0m\u001b[0;34m.\u001b[0m\u001b[0mstream\u001b[0m\u001b[0;34m.\u001b[0m\u001b[0mreadline\u001b[0m\u001b[0;34m(\u001b[0m\u001b[0;34m)\u001b[0m\u001b[0;34m[\u001b[0m\u001b[0;34m:\u001b[0m\u001b[0;34m-\u001b[0m\u001b[0;36m1\u001b[0m\u001b[0;34m]\u001b[0m\u001b[0;34m)\u001b[0m\u001b[0;34m\u001b[0m\u001b[0m\n\u001b[0m\u001b[1;32m   1029\u001b[0m             \u001b[0mlogger\u001b[0m\u001b[0;34m.\u001b[0m\u001b[0mdebug\u001b[0m\u001b[0;34m(\u001b[0m\u001b[0;34m\"Answer received: {0}\"\u001b[0m\u001b[0;34m.\u001b[0m\u001b[0mformat\u001b[0m\u001b[0;34m(\u001b[0m\u001b[0manswer\u001b[0m\u001b[0;34m)\u001b[0m\u001b[0;34m)\u001b[0m\u001b[0;34m\u001b[0m\u001b[0m\n\u001b[1;32m   1030\u001b[0m             \u001b[0;32mif\u001b[0m \u001b[0manswer\u001b[0m\u001b[0;34m.\u001b[0m\u001b[0mstartswith\u001b[0m\u001b[0;34m(\u001b[0m\u001b[0mproto\u001b[0m\u001b[0;34m.\u001b[0m\u001b[0mRETURN_MESSAGE\u001b[0m\u001b[0;34m)\u001b[0m\u001b[0;34m:\u001b[0m\u001b[0;34m\u001b[0m\u001b[0m\n",
      "\u001b[0;32m/usr/lib/python3.5/socket.py\u001b[0m in \u001b[0;36mreadinto\u001b[0;34m(self, b)\u001b[0m\n\u001b[1;32m    573\u001b[0m         \u001b[0;32mwhile\u001b[0m \u001b[0;32mTrue\u001b[0m\u001b[0;34m:\u001b[0m\u001b[0;34m\u001b[0m\u001b[0m\n\u001b[1;32m    574\u001b[0m             \u001b[0;32mtry\u001b[0m\u001b[0;34m:\u001b[0m\u001b[0;34m\u001b[0m\u001b[0m\n\u001b[0;32m--> 575\u001b[0;31m                 \u001b[0;32mreturn\u001b[0m \u001b[0mself\u001b[0m\u001b[0;34m.\u001b[0m\u001b[0m_sock\u001b[0m\u001b[0;34m.\u001b[0m\u001b[0mrecv_into\u001b[0m\u001b[0;34m(\u001b[0m\u001b[0mb\u001b[0m\u001b[0;34m)\u001b[0m\u001b[0;34m\u001b[0m\u001b[0m\n\u001b[0m\u001b[1;32m    576\u001b[0m             \u001b[0;32mexcept\u001b[0m \u001b[0mtimeout\u001b[0m\u001b[0;34m:\u001b[0m\u001b[0;34m\u001b[0m\u001b[0m\n\u001b[1;32m    577\u001b[0m                 \u001b[0mself\u001b[0m\u001b[0;34m.\u001b[0m\u001b[0m_timeout_occurred\u001b[0m \u001b[0;34m=\u001b[0m \u001b[0;32mTrue\u001b[0m\u001b[0;34m\u001b[0m\u001b[0m\n",
      "\u001b[0;31mKeyboardInterrupt\u001b[0m: "
     ]
    }
   ],
   "source": [
    "train_users.printSchema()\n",
    "train_users.describe().show()\n",
    "test_users.printSchema()\n",
    "test_users.describe().show()"
   ]
  },
  {
   "cell_type": "code",
   "execution_count": 58,
   "metadata": {},
   "outputs": [
    {
     "name": "stdout",
     "output_type": "stream",
     "text": [
      "+-------------------+------+\n",
      "|country_destination| count|\n",
      "+-------------------+------+\n",
      "|                 PT|   217|\n",
      "|                 AU|   539|\n",
      "|                 NL|   762|\n",
      "|                 DE|  1061|\n",
      "|                 CA|  1428|\n",
      "|                 ES|  2249|\n",
      "|                 GB|  2324|\n",
      "|                 IT|  2835|\n",
      "|                 FR|  5023|\n",
      "|              other| 10094|\n",
      "|                 US| 62376|\n",
      "|                NDF|124543|\n",
      "+-------------------+------+\n",
      "\n",
      "+--------+------+\n",
      "|language| count|\n",
      "+--------+------+\n",
      "|      hr|     2|\n",
      "|      ca|     5|\n",
      "|      is|     5|\n",
      "|      fi|    14|\n",
      "|      hu|    18|\n",
      "|      id|    22|\n",
      "|      th|    24|\n",
      "|      el|    24|\n",
      "|      no|    30|\n",
      "|      cs|    32|\n",
      "|      pl|    54|\n",
      "|      da|    58|\n",
      "|      tr|    64|\n",
      "|      nl|    97|\n",
      "|      sv|   122|\n",
      "|      ja|   225|\n",
      "|      pt|   240|\n",
      "|      ru|   389|\n",
      "|      it|   514|\n",
      "|      de|   732|\n",
      "|      ko|   747|\n",
      "|      es|   915|\n",
      "|      fr|  1172|\n",
      "|      zh|  1632|\n",
      "|      en|206314|\n",
      "+--------+------+\n",
      "\n",
      "+---------+-----+\n",
      "|   gender|count|\n",
      "+---------+-----+\n",
      "|    OTHER|  282|\n",
      "|     MALE|54440|\n",
      "|   FEMALE|63041|\n",
      "|-unknown-|95688|\n",
      "+---------+-----+\n",
      "\n",
      "+----------+------+\n",
      "|signup_app| count|\n",
      "+----------+------+\n",
      "|   Android|  5454|\n",
      "|     Moweb|  6261|\n",
      "|       iOS| 19019|\n",
      "|       Web|182717|\n",
      "+----------+------+\n",
      "\n"
     ]
    }
   ],
   "source": [
    "train_users.groupBy('country_destination').count().orderBy('count').show()\n",
    "train_users.groupBy('language').count().orderBy('count').show(30)\n",
    "train_users.groupBy('gender').count().orderBy('count').show()\n",
    "train_users.groupBy('signup_app').count().orderBy('count').show()\n",
    "train_users.groupBy('first_affiliate_tracked').count().orderBy('count').show()"
   ]
  },
  {
   "cell_type": "markdown",
   "metadata": {},
   "source": [
    "To check the missing value!"
   ]
  },
  {
   "cell_type": "code",
   "execution_count": null,
   "metadata": {},
   "outputs": [],
   "source": [
    "age_pd=age.toPandas()\n",
    "age_pd.isnull().sum()\n",
    "country_pd=country.toPandas()\n",
    "country_pd.isnull().sum()"
   ]
  },
  {
   "cell_type": "code",
   "execution_count": 3,
   "metadata": {},
   "outputs": [
    {
     "name": "stdout",
     "output_type": "stream",
     "text": [
      "+--------------------+--------------------+-------------------+---------------------+--------------------+--------------------+\n",
      "|     user_id_missing|      action_missing|action_type_missing|action_detail_missing| device_type_missing|secs_elapsed_missing|\n",
      "+--------------------+--------------------+-------------------+---------------------+--------------------+--------------------+\n",
      "|0.003229922721597...|0.007560441514759764|0.10691410243400756|  0.10691419825466508|9.582065740865175E-8|0.012862390133231871|\n",
      "+--------------------+--------------------+-------------------+---------------------+--------------------+--------------------+\n",
      "\n"
     ]
    }
   ],
   "source": [
    "\n",
    "session.agg(*[(1-(fn.count(c) /fn.count('*'))).alias(c+'_missing') for c in session.columns]).show()\n"
   ]
  },
  {
   "cell_type": "code",
   "execution_count": 4,
   "metadata": {},
   "outputs": [
    {
     "name": "stdout",
     "output_type": "stream",
     "text": [
      "+----------+----------------------------+------------------------------+--------------------------+--------------+------------------+---------------------+-------------------+----------------+-------------------------+--------------------------+-------------------------------+------------------+-------------------------+---------------------+\n",
      "|id_missing|date_account_created_missing|timestamp_first_active_missing|date_first_booking_missing|gender_missing|       age_missing|signup_method_missing|signup_flow_missing|language_missing|affiliate_channel_missing|affiliate_provider_missing|first_affiliate_tracked_missing|signup_app_missing|first_device_type_missing|first_browser_missing|\n",
      "+----------+----------------------------+------------------------------+--------------------------+--------------+------------------+---------------------+-------------------+----------------+-------------------------+--------------------------+-------------------------------+------------------+-------------------------+---------------------+\n",
      "|       0.0|                         0.0|                           0.0|                       1.0|           0.0|0.4650219015717598|                  0.0|                0.0|             0.0|                      0.0|                       0.0|           3.220819376449357...|               0.0|                      0.0|                  0.0|\n",
      "+----------+----------------------------+------------------------------+--------------------------+--------------+------------------+---------------------+-------------------+----------------+-------------------------+--------------------------+-------------------------------+------------------+-------------------------+---------------------+\n",
      "\n"
     ]
    }
   ],
   "source": [
    "test_users.agg(*[(1-(fn.count(c) /fn.count('*'))).alias(c+'_missing') for c in test_users.columns]).show()\n",
    "train_users.agg(*[(1-(fn.count(c) /fn.count('*'))).alias(c+'_missing') for c in train_users.columns]).show()"
   ]
  },
  {
   "cell_type": "code",
   "execution_count": 7,
   "metadata": {},
   "outputs": [
    {
     "name": "stdout",
     "output_type": "stream",
     "text": [
      "+-----------------------+------+\n",
      "|first_affiliate_tracked| count|\n",
      "+-----------------------+------+\n",
      "|              local ops|    34|\n",
      "|              marketing|   139|\n",
      "|                product|  1556|\n",
      "|                   null|  6065|\n",
      "|          tracked-other|  6156|\n",
      "|                    omg| 43982|\n",
      "|                 linked| 46287|\n",
      "|              untracked|109232|\n",
      "+-----------------------+------+\n",
      "\n",
      "+-----------------------+-----+\n",
      "|first_affiliate_tracked|count|\n",
      "+-----------------------+-----+\n",
      "|                   null|   20|\n",
      "|              local ops|   35|\n",
      "|              marketing|  142|\n",
      "|          tracked-other|  499|\n",
      "|                product|  797|\n",
      "|                    omg|10877|\n",
      "|                 linked|15777|\n",
      "|              untracked|33949|\n",
      "+-----------------------+-----+\n",
      "\n",
      "+---------+-----+\n",
      "|   gender|count|\n",
      "+---------+-----+\n",
      "|    OTHER|   52|\n",
      "|     MALE|13769|\n",
      "|   FEMALE|14483|\n",
      "|-unknown-|33792|\n",
      "+---------+-----+\n",
      "\n",
      "+-------+-----------------+\n",
      "|summary|              age|\n",
      "+-------+-----------------+\n",
      "|  count|            33220|\n",
      "|   mean|37.61667670078266|\n",
      "| stddev|74.44064668390018|\n",
      "|    min|              1.0|\n",
      "|    max|           2002.0|\n",
      "+-------+-----------------+\n",
      "\n"
     ]
    }
   ],
   "source": [
    "train_users.groupBy('first_affiliate_tracked').count().orderBy('count').show()\n",
    "test_users.groupBy('first_affiliate_tracked').count().orderBy('count').show()\n",
    "test_users.groupBy('gender').count().orderBy('count').show()\n",
    "test_users.select('age').describe().show()"
   ]
  },
  {
   "cell_type": "markdown",
   "metadata": {},
   "source": [
    "Note---------"
   ]
  },
  {
   "cell_type": "code",
   "execution_count": null,
   "metadata": {},
   "outputs": [],
   "source": [
    "train_users.agg(*[(1-(fn.count(c) /fn.count('*'))).alias(c+'_missing') for c in train_users.columns]).show()\n",
    "test_users.agg(*[(1-(fn.count(c) /fn.count('*'))).alias(c+'_missing') for c in train_users.columns]).show()\n",
    "training = train_users.toPandas()\n",
    "testing = test_users.toPandas()\n",
    "training['gender'] = training['gender'].replace('-unknown-', np.nan)\n",
    "training['first_browser'] = training['first_browser'].replace('-unknown-', np.nan)\n"
   ]
  }
 ],
 "metadata": {
  "kernelspec": {
   "display_name": "Python 3",
   "language": "python",
   "name": "python3"
  },
  "language_info": {
   "codemirror_mode": {
    "name": "ipython",
    "version": 3
   },
   "file_extension": ".py",
   "mimetype": "text/x-python",
   "name": "python",
   "nbconvert_exporter": "python",
   "pygments_lexer": "ipython3",
   "version": "3.5.2"
  }
 },
 "nbformat": 4,
 "nbformat_minor": 2
}
