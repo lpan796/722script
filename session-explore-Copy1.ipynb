{
 "cells": [
  {
   "cell_type": "markdown",
   "metadata": {},
   "source": [
    "session data \n"
   ]
  },
  {
   "cell_type": "code",
   "execution_count": 1,
   "metadata": {},
   "outputs": [],
   "source": [
    "import findspark\n",
    "findspark.init('/home/ubuntu/spark-2.1.1-bin-hadoop2.7')\n",
    "import pyspark\n",
    "from pyspark.sql import SparkSession\n",
    "spark = SparkSession.builder.appName('session').getOrCreate()"
   ]
  },
  {
   "cell_type": "code",
   "execution_count": 2,
   "metadata": {},
   "outputs": [],
   "source": [
    "df1 = spark.read.csv('sessions.csv',header=True,inferSchema=True)"
   ]
  },
  {
   "cell_type": "code",
   "execution_count": 3,
   "metadata": {},
   "outputs": [
    {
     "name": "stdout",
     "output_type": "stream",
     "text": [
      "+----------+--------------------+-----------+--------------------+---------------+------------+\n",
      "|   user_id|              action|action_type|       action_detail|    device_type|secs_elapsed|\n",
      "+----------+--------------------+-----------+--------------------+---------------+------------+\n",
      "|d1mm9tcy42|              lookup|       null|                null|Windows Desktop|       319.0|\n",
      "|d1mm9tcy42|      search_results|      click| view_search_results|Windows Desktop|     67753.0|\n",
      "|d1mm9tcy42|              lookup|       null|                null|Windows Desktop|       301.0|\n",
      "|d1mm9tcy42|      search_results|      click| view_search_results|Windows Desktop|     22141.0|\n",
      "|d1mm9tcy42|              lookup|       null|                null|Windows Desktop|       435.0|\n",
      "|d1mm9tcy42|      search_results|      click| view_search_results|Windows Desktop|      7703.0|\n",
      "|d1mm9tcy42|              lookup|       null|                null|Windows Desktop|       115.0|\n",
      "|d1mm9tcy42|         personalize|       data|wishlist_content_...|Windows Desktop|       831.0|\n",
      "|d1mm9tcy42|               index|       view| view_search_results|Windows Desktop|     20842.0|\n",
      "|d1mm9tcy42|              lookup|       null|                null|Windows Desktop|       683.0|\n",
      "|d1mm9tcy42|      search_results|      click| view_search_results|Windows Desktop|     59274.0|\n",
      "|d1mm9tcy42|              lookup|       null|                null|Windows Desktop|        95.0|\n",
      "|d1mm9tcy42|         personalize|       data|wishlist_content_...|Windows Desktop|      1399.0|\n",
      "|d1mm9tcy42|               index|       view| view_search_results|Windows Desktop|     74886.0|\n",
      "|d1mm9tcy42|    similar_listings|       data|    similar_listings|Windows Desktop|       255.0|\n",
      "|d1mm9tcy42|ajax_refresh_subt...|      click|change_trip_chara...|Windows Desktop|      8134.0|\n",
      "|d1mm9tcy42|    similar_listings|       data|    similar_listings|Windows Desktop|       183.0|\n",
      "|d1mm9tcy42|ajax_refresh_subt...|      click|change_trip_chara...|Windows Desktop|    175570.0|\n",
      "|d1mm9tcy42|                show|       null|                null|Windows Desktop|        86.0|\n",
      "|d1mm9tcy42|         personalize|       data|wishlist_content_...|Windows Desktop|      1535.0|\n",
      "+----------+--------------------+-----------+--------------------+---------------+------------+\n",
      "only showing top 20 rows\n",
      "\n"
     ]
    }
   ],
   "source": [
    "df1.show()\n"
   ]
  },
  {
   "cell_type": "code",
   "execution_count": 4,
   "metadata": {},
   "outputs": [
    {
     "name": "stdout",
     "output_type": "stream",
     "text": [
      "root\n",
      " |-- user_id: string (nullable = true)\n",
      " |-- action: string (nullable = true)\n",
      " |-- action_type: string (nullable = true)\n",
      " |-- action_detail: string (nullable = true)\n",
      " |-- device_type: string (nullable = true)\n",
      " |-- secs_elapsed: double (nullable = true)\n",
      "\n"
     ]
    }
   ],
   "source": [
    "df1.printSchema()"
   ]
  },
  {
   "cell_type": "code",
   "execution_count": 5,
   "metadata": {},
   "outputs": [
    {
     "name": "stdout",
     "output_type": "stream",
     "text": [
      "+-------+----------+------------------+-----------+-------------+-----------+------------------+\n",
      "|summary|   user_id|            action|action_type|action_detail|device_type|      secs_elapsed|\n",
      "+-------+----------+------------------+-----------+-------------+-----------+------------------+\n",
      "|  count|  10402455|          10357261|    9320390|      9320389|   10436162|          10301929|\n",
      "|   mean|      null|11.443977591036415|       null|         null|       null|19402.250468819966|\n",
      "| stddev|      null|  1.70160109487874|       null|         null|       null|   88897.166995627|\n",
      "|    min|00023iyk9l|                10|  -unknown-|    -unknown-|  -unknown-|               0.0|\n",
      "|    max|zzzlylp57e| zendesk_login_jwt|       view|   your_trips|  iPodtouch|         1799977.0|\n",
      "+-------+----------+------------------+-----------+-------------+-----------+------------------+\n",
      "\n"
     ]
    }
   ],
   "source": [
    "df1.describe().show()"
   ]
  },
  {
   "cell_type": "code",
   "execution_count": 6,
   "metadata": {},
   "outputs": [
    {
     "data": {
      "text/plain": [
       "10436163"
      ]
     },
     "execution_count": 6,
     "metadata": {},
     "output_type": "execute_result"
    }
   ],
   "source": [
    "df1.count()"
   ]
  },
  {
   "cell_type": "code",
   "execution_count": null,
   "metadata": {},
   "outputs": [],
   "source": []
  },
  {
   "cell_type": "code",
   "execution_count": 8,
   "metadata": {},
   "outputs": [
    {
     "name": "stdout",
     "output_type": "stream",
     "text": [
      "+--------------------+-----------+--------------------+---------------+\n",
      "|              action|action_type|       action_detail|    device_type|\n",
      "+--------------------+-----------+--------------------+---------------+\n",
      "|              lookup|        NaN|                 NaN|Windows Desktop|\n",
      "|      search_results|      click| view_search_results|Windows Desktop|\n",
      "|              lookup|        NaN|                 NaN|Windows Desktop|\n",
      "|      search_results|      click| view_search_results|Windows Desktop|\n",
      "|              lookup|        NaN|                 NaN|Windows Desktop|\n",
      "|      search_results|      click| view_search_results|Windows Desktop|\n",
      "|              lookup|        NaN|                 NaN|Windows Desktop|\n",
      "|         personalize|       data|wishlist_content_...|Windows Desktop|\n",
      "|               index|       view| view_search_results|Windows Desktop|\n",
      "|              lookup|        NaN|                 NaN|Windows Desktop|\n",
      "|      search_results|      click| view_search_results|Windows Desktop|\n",
      "|              lookup|        NaN|                 NaN|Windows Desktop|\n",
      "|         personalize|       data|wishlist_content_...|Windows Desktop|\n",
      "|               index|       view| view_search_results|Windows Desktop|\n",
      "|    similar_listings|       data|    similar_listings|Windows Desktop|\n",
      "|ajax_refresh_subt...|      click|change_trip_chara...|Windows Desktop|\n",
      "|    similar_listings|       data|    similar_listings|Windows Desktop|\n",
      "|ajax_refresh_subt...|      click|change_trip_chara...|Windows Desktop|\n",
      "|                show|        NaN|                 NaN|Windows Desktop|\n",
      "|         personalize|       data|wishlist_content_...|Windows Desktop|\n",
      "+--------------------+-----------+--------------------+---------------+\n",
      "only showing top 20 rows\n",
      "\n"
     ]
    }
   ],
   "source": [
    "df1.select(\"action\",\"action_type\",\"action_detail\",\"device_type\").na.fill(\"NaN\").show()"
   ]
  },
  {
   "cell_type": "code",
   "execution_count": 10,
   "metadata": {},
   "outputs": [
    {
     "name": "stdout",
     "output_type": "stream",
     "text": [
      "+------------+\n",
      "|secs_elapsed|\n",
      "+------------+\n",
      "|       319.0|\n",
      "|     67753.0|\n",
      "|       301.0|\n",
      "|     22141.0|\n",
      "|       435.0|\n",
      "|      7703.0|\n",
      "|       115.0|\n",
      "|       831.0|\n",
      "|     20842.0|\n",
      "|       683.0|\n",
      "|     59274.0|\n",
      "|        95.0|\n",
      "|      1399.0|\n",
      "|     74886.0|\n",
      "|       255.0|\n",
      "|      8134.0|\n",
      "|       183.0|\n",
      "|    175570.0|\n",
      "|        86.0|\n",
      "|      1535.0|\n",
      "+------------+\n",
      "only showing top 20 rows\n",
      "\n"
     ]
    }
   ],
   "source": [
    "df1.select(\"secs_elapsed\").na.fill(19402).show()"
   ]
  },
  {
   "cell_type": "code",
   "execution_count": 13,
   "metadata": {},
   "outputs": [
    {
     "name": "stdout",
     "output_type": "stream",
     "text": [
      "+----------+-----------------+\n",
      "|   user_id|sum(secs_elapsed)|\n",
      "+----------+-----------------+\n",
      "|de3scomvop|           1051.0|\n",
      "|9nut71te0s|        1659715.0|\n",
      "|zlv8f1qg2g|        1155388.0|\n",
      "|srykgkylee|            246.0|\n",
      "|funlgmcmr3|          54747.0|\n",
      "|mzduh7va3m|        1483785.0|\n",
      "|zds4xn9jvb|        4837348.0|\n",
      "|s5hieu20bh|         631247.0|\n",
      "|n2utn4z7pk|        2993479.0|\n",
      "|e766mg6ku1|         259326.0|\n",
      "|xfpn2xw6b6|         500275.0|\n",
      "|thkobfxs30|         480322.0|\n",
      "|fvjgmiax3d|          96818.0|\n",
      "|2gv2kfvseu|         401193.0|\n",
      "|ott06joxd2|        1292370.0|\n",
      "|e2zoe02zd5|         642272.0|\n",
      "|f0cnhta47g|        1338892.0|\n",
      "|spv23uq1cb|        1567138.0|\n",
      "|5ounyry4bv|         162051.0|\n",
      "|sl81fx9peb|         182636.0|\n",
      "+----------+-----------------+\n",
      "only showing top 20 rows\n",
      "\n"
     ]
    }
   ],
   "source": [
    "df_session=df1.groupBy(\"user_id\").sum(\"secs_elapsed\").show()"
   ]
  },
  {
   "cell_type": "code",
   "execution_count": 17,
   "metadata": {},
   "outputs": [],
   "source": [
    "file=r\"pre_sessions.csv\"\n",
    "df1.groupBy(\"user_id\").sum(\"secs_elapsed\").write.csv(path=file, header=True, sep=\",\", mode='overwrite')\n"
   ]
  },
  {
   "cell_type": "code",
   "execution_count": null,
   "metadata": {},
   "outputs": [],
   "source": []
  }
 ],
 "metadata": {
  "kernelspec": {
   "display_name": "Python 3",
   "language": "python",
   "name": "python3"
  },
  "language_info": {
   "codemirror_mode": {
    "name": "ipython",
    "version": 3
   },
   "file_extension": ".py",
   "mimetype": "text/x-python",
   "name": "python",
   "nbconvert_exporter": "python",
   "pygments_lexer": "ipython3",
   "version": "3.5.2"
  }
 },
 "nbformat": 4,
 "nbformat_minor": 2
}
